{
 "cells": [
  {
   "cell_type": "markdown",
   "metadata": {},
   "source": [
    "---\n",
    "title: \"Post 5 - Implementing Logistic Regression\"\n",
    "author: Col McDermott\n",
    "date: \"04-7-2025\"\n",
    "description: \"An introductory exploration of logistic regression and gradient descent.\"\n",
    "format: html\n",
    "code-fold: true\n",
    "execute:\n",
    "  warning: false\n",
    "  message: false\n",
    "---"
   ]
  },
  {
   "cell_type": "markdown",
   "metadata": {},
   "source": [
    "# Abstract"
   ]
  },
  {
   "cell_type": "code",
   "execution_count": null,
   "metadata": {},
   "outputs": [],
   "source": [
    "# Including all additional imports\n",
    "from matplotlib.colors import LinearSegmentedColormap\n",
    "from matplotlib import pyplot as plt\n",
    "import torch as tch\n",
    "\n",
    "# Porting over perceptron and minibatch perceptron implementations\n",
    "%load_ext autoreload\n",
    "%autoreload 2\n",
    "from logistic import LogisticRegression, GradientDescentOptimizer, NewtonOptimizer"
   ]
  },
  {
   "cell_type": "markdown",
   "metadata": {},
   "source": [
    "## Implementing Logistic Regression"
   ]
  }
 ],
 "metadata": {
  "kernelspec": {
   "display_name": "ml-0451",
   "language": "python",
   "name": "python3"
  },
  "language_info": {
   "name": "python",
   "version": "3.9.21"
  }
 },
 "nbformat": 4,
 "nbformat_minor": 2
}
